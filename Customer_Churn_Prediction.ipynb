{
  "nbformat": 4,
  "nbformat_minor": 0,
  "metadata": {
    "colab": {
      "provenance": [],
      "collapsed_sections": [
        "srXM0kSq4ALc",
        "GcFfew8syl_Y",
        "h5hV8uney1tw",
        "M0of_FUYzf6C",
        "DtQU7gzdzok8",
        "D2hGOWblzv_9",
        "x41F9gmxz2QC",
        "QuNSRjnE0Cw6",
        "pobAhxCd1QRj",
        "16sB6nLQ1bww",
        "TlLuzyD71kjE",
        "EVT9vc0X3eec"
      ],
      "machine_shape": "hm"
    },
    "kernelspec": {
      "name": "python3",
      "display_name": "Python 3"
    },
    "language_info": {
      "name": "python"
    }
  },
  "cells": [
    {
      "cell_type": "markdown",
      "source": [
        "# Downloading The Data and Importing the packages"
      ],
      "metadata": {
        "id": "UkbQjgKmvJ0y"
      }
    },
    {
      "cell_type": "markdown",
      "source": [
        "## Imports"
      ],
      "metadata": {
        "id": "9j4BlAqKtuz7"
      }
    },
    {
      "cell_type": "code",
      "execution_count": 1,
      "metadata": {
        "id": "btDIiTz0Xe3E"
      },
      "outputs": [],
      "source": [
        "# Import the kagglehub library\n",
        "import kagglehub\n",
        "from google.colab import userdata\n",
        "import os\n",
        "import pandas as pd\n",
        "import numpy as np\n",
        "import matplotlib.pyplot as plt\n",
        "import seaborn as sns\n",
        "import shutil"
      ]
    },
    {
      "cell_type": "markdown",
      "source": [
        "## Downloading The Data"
      ],
      "metadata": {
        "id": "XaHoe365tyfd"
      }
    },
    {
      "cell_type": "code",
      "source": [
        "# Set Kaggle environment variables\n",
        "os.environ[\"KAGGLE_KEY\"] = userdata.get('KAGGLE_KEY')\n",
        "os.environ[\"KAGGLE_USERNAME\"] = userdata.get('KAGGLE_USERNAME')\n",
        "\n",
        "# File path and target directory\n",
        "file_path = \"playground-series-s4e12.zip\"\n",
        "unzip_dir = \"data\"\n",
        "\n",
        "# Check if the data directory exists and create it if necessary\n",
        "if not os.path.exists(unzip_dir):\n",
        "    os.makedirs(unzip_dir)\n",
        "\n",
        "# Check if the zip file exists\n",
        "if os.path.exists(file_path):\n",
        "    print(\"Zip file already exists.\")\n",
        "else:\n",
        "  if not os.listdir(unzip_dir):  # List directory contents\n",
        "    # Download the file from Kaggle\n",
        "    print(\"Downloading zip file from Kaggle...\")\n",
        "    !kaggle competitions download -c playground-series-s4e12\n",
        "\n",
        "# Check if the data folder is empty\n",
        "if not os.listdir(unzip_dir):  # List directory contents\n",
        "    print(\"Data folder is empty. Unzipping files...\")\n",
        "    !unzip -o \"$file_path\" -d \"$unzip_dir\"\n",
        "else:\n",
        "    print(\"Data folder is not empty. Skipping unzip operation.\")\n",
        "\n",
        "# Check if the file exists and remove it\n",
        "if os.path.exists(file_path):\n",
        "    os.remove(file_path)\n",
        "    print(f\"{file_path} has been removed.\")\n",
        "else:\n",
        "    print(f\"{file_path} does not exist.\")"
      ],
      "metadata": {
        "id": "jnd2Lm6ksTTy",
        "colab": {
          "base_uri": "https://localhost:8080/"
        },
        "outputId": "2577a85c-00f1-4874-eb77-7dad61543e1b"
      },
      "execution_count": 2,
      "outputs": [
        {
          "output_type": "stream",
          "name": "stdout",
          "text": [
            "Downloading zip file from Kaggle...\n",
            "Downloading playground-series-s4e12.zip to /content\n",
            " 99% 75.0M/75.5M [00:03<00:00, 28.3MB/s]\n",
            "100% 75.5M/75.5M [00:03<00:00, 20.0MB/s]\n",
            "Data folder is empty. Unzipping files...\n",
            "Archive:  playground-series-s4e12.zip\n",
            "  inflating: data/sample_submission.csv  \n",
            "  inflating: data/test.csv           \n",
            "  inflating: data/train.csv          \n",
            "playground-series-s4e12.zip has been removed.\n"
          ]
        }
      ]
    },
    {
      "cell_type": "markdown",
      "source": [
        "# Perform EDA (Exploratory Data Analysis) on train data\n",
        "\n",
        "## Only if not availible on github otherwise download the eda folder from github"
      ],
      "metadata": {
        "id": "prffzVk6vTnS"
      }
    },
    {
      "cell_type": "markdown",
      "source": [
        "## Download the EDA data from Github if availible"
      ],
      "metadata": {
        "id": "srXM0kSq4ALc"
      }
    },
    {
      "cell_type": "code",
      "source": [
        "# Step 1: Download the repository as a zip file\n",
        "!wget https://github.com/Hero988/playground-series-s4e12-competition-results/archive/refs/heads/main.zip\n",
        "\n",
        "# Step 2: Unzip the file\n",
        "!unzip main.zip\n",
        "\n",
        "# Step 3: Move the desired folder to a specific location\n",
        "!mv playground-series-s4e12-competition-results-main/eda_train_initial /content/eda_train_initial\n",
        "\n",
        "# Step 4: Clean up by removing the unneeded files\n",
        "!rm -r playground-series-s4e12-competition-results-main main.zip"
      ],
      "metadata": {
        "colab": {
          "base_uri": "https://localhost:8080/"
        },
        "id": "hL8kTODfzeoz",
        "outputId": "aeaa6dac-4df2-431e-fa65-d24471be43b6"
      },
      "execution_count": 3,
      "outputs": [
        {
          "output_type": "stream",
          "name": "stdout",
          "text": [
            "--2024-12-14 02:01:39--  https://github.com/Hero988/playground-series-s4e12-competition-results/archive/refs/heads/main.zip\n",
            "Resolving github.com (github.com)... 20.27.177.113\n",
            "Connecting to github.com (github.com)|20.27.177.113|:443... connected.\n",
            "HTTP request sent, awaiting response... 302 Found\n",
            "Location: https://codeload.github.com/Hero988/playground-series-s4e12-competition-results/zip/refs/heads/main [following]\n",
            "--2024-12-14 02:01:39--  https://codeload.github.com/Hero988/playground-series-s4e12-competition-results/zip/refs/heads/main\n",
            "Resolving codeload.github.com (codeload.github.com)... 20.27.177.114\n",
            "Connecting to codeload.github.com (codeload.github.com)|20.27.177.114|:443... connected.\n",
            "HTTP request sent, awaiting response... 200 OK\n",
            "Length: unspecified [application/zip]\n",
            "Saving to: ‘main.zip’\n",
            "\n",
            "main.zip                [ <=>                ] 531.81K  2.99MB/s    in 0.2s    \n",
            "\n",
            "2024-12-14 02:01:40 (2.99 MB/s) - ‘main.zip’ saved [544575]\n",
            "\n",
            "Archive:  main.zip\n",
            "6a48cb1f087dbc89500ec3554f616394c50605d9\n",
            "   creating: playground-series-s4e12-competition-results-main/\n",
            " extracting: playground-series-s4e12-competition-results-main/README.md  \n",
            "   creating: playground-series-s4e12-competition-results-main/eda_train_initial/\n",
            "  inflating: playground-series-s4e12-competition-results-main/eda_train_initial/basic_info.txt  \n",
            "  inflating: playground-series-s4e12-competition-results-main/eda_train_initial/correlation_matrix.png  \n",
            "  inflating: playground-series-s4e12-competition-results-main/eda_train_initial/feature_types.txt  \n",
            "  inflating: playground-series-s4e12-competition-results-main/eda_train_initial/missing_values.csv  \n",
            "  inflating: playground-series-s4e12-competition-results-main/eda_train_initial/missing_values_heatmap.png  \n",
            "   creating: playground-series-s4e12-competition-results-main/eda_train_initial/numerical_distributions/\n",
            "  inflating: playground-series-s4e12-competition-results-main/eda_train_initial/numerical_distributions/distribution_Age.png  \n",
            "  inflating: playground-series-s4e12-competition-results-main/eda_train_initial/numerical_distributions/distribution_Annual Income.png  \n",
            "  inflating: playground-series-s4e12-competition-results-main/eda_train_initial/numerical_distributions/distribution_Credit Score.png  \n",
            "  inflating: playground-series-s4e12-competition-results-main/eda_train_initial/numerical_distributions/distribution_Health Score.png  \n",
            "  inflating: playground-series-s4e12-competition-results-main/eda_train_initial/numerical_distributions/distribution_Insurance Duration.png  \n",
            "  inflating: playground-series-s4e12-competition-results-main/eda_train_initial/numerical_distributions/distribution_Number of Dependents.png  \n",
            "  inflating: playground-series-s4e12-competition-results-main/eda_train_initial/numerical_distributions/distribution_Premium Amount.png  \n",
            "  inflating: playground-series-s4e12-competition-results-main/eda_train_initial/numerical_distributions/distribution_Previous Claims.png  \n",
            "  inflating: playground-series-s4e12-competition-results-main/eda_train_initial/numerical_distributions/distribution_Vehicle Age.png  \n",
            "  inflating: playground-series-s4e12-competition-results-main/eda_train_initial/numerical_distributions/distribution_id.png  \n",
            "   creating: playground-series-s4e12-competition-results-main/eda_train_initial/outliers_detection/\n",
            "  inflating: playground-series-s4e12-competition-results-main/eda_train_initial/outliers_detection/boxplot_Age.png  \n",
            "  inflating: playground-series-s4e12-competition-results-main/eda_train_initial/outliers_detection/boxplot_Annual Income.png  \n",
            "  inflating: playground-series-s4e12-competition-results-main/eda_train_initial/outliers_detection/boxplot_Credit Score.png  \n",
            "  inflating: playground-series-s4e12-competition-results-main/eda_train_initial/outliers_detection/boxplot_Health Score.png  \n",
            "  inflating: playground-series-s4e12-competition-results-main/eda_train_initial/outliers_detection/boxplot_Insurance Duration.png  \n",
            "  inflating: playground-series-s4e12-competition-results-main/eda_train_initial/outliers_detection/boxplot_Number of Dependents.png  \n",
            "  inflating: playground-series-s4e12-competition-results-main/eda_train_initial/outliers_detection/boxplot_Premium Amount.png  \n",
            "  inflating: playground-series-s4e12-competition-results-main/eda_train_initial/outliers_detection/boxplot_Previous Claims.png  \n",
            "  inflating: playground-series-s4e12-competition-results-main/eda_train_initial/outliers_detection/boxplot_Vehicle Age.png  \n",
            "  inflating: playground-series-s4e12-competition-results-main/eda_train_initial/outliers_detection/boxplot_id.png  \n",
            "  inflating: playground-series-s4e12-competition-results-main/eda_train_initial/summary_statistics.csv  \n"
          ]
        }
      ]
    },
    {
      "cell_type": "markdown",
      "source": [
        "## Load the train dataset"
      ],
      "metadata": {
        "id": "eQ5lIAlzyr-w"
      }
    },
    {
      "cell_type": "code",
      "source": [
        "data_path = \"/content/data/train.csv\"\n",
        "df_train = pd.read_csv(data_path)\n",
        "\n",
        "categorical_cols = df_train.select_dtypes(include=['object']).columns.tolist()\n",
        "numerical_cols = df_train.select_dtypes(include=['number']).columns.tolist()"
      ],
      "metadata": {
        "id": "YIkfIY7Mytum"
      },
      "execution_count": 4,
      "outputs": []
    },
    {
      "cell_type": "markdown",
      "source": [
        "## Create a folder to save the EDA outputs and plots"
      ],
      "metadata": {
        "id": "GcFfew8syl_Y"
      }
    },
    {
      "cell_type": "code",
      "source": [
        "if not os.path.exists(\"/content/eda_train_initial\"):\n",
        "  output_folder = \"/content/eda\"\n",
        "  os.makedirs(output_folder, exist_ok=True)"
      ],
      "metadata": {
        "id": "MTT6w3J2yIsF"
      },
      "execution_count": 5,
      "outputs": []
    },
    {
      "cell_type": "markdown",
      "source": [
        "## Basic Information"
      ],
      "metadata": {
        "id": "h5hV8uney1tw"
      }
    },
    {
      "cell_type": "code",
      "source": [
        "if not os.path.exists(\"/content/eda_train_initial\"):\n",
        "  with open(os.path.join(output_folder, \"basic_info.txt\"), \"w\") as f:\n",
        "    f.write(\"Basic Information:\\n\")\n",
        "    df_train.info(buf=f)\n",
        "    f.write(\"\\n\\nFirst 5 rows:\\n\")\n",
        "    f.write(df_train.head().to_string())\n",
        "    f.write(f\"\\n\\nDataset shape: {df_train.shape}\\n\")"
      ],
      "metadata": {
        "id": "6tYnsErfyy5P"
      },
      "execution_count": 6,
      "outputs": []
    },
    {
      "cell_type": "markdown",
      "source": [
        "## Missing Values"
      ],
      "metadata": {
        "id": "M0of_FUYzf6C"
      }
    },
    {
      "cell_type": "code",
      "source": [
        "if not os.path.exists(\"/content/eda_train_initial\"):\n",
        "  missing_values = df_train.isnull().sum()\n",
        "  missing_values.to_csv(os.path.join(output_folder, \"missing_values.csv\"))"
      ],
      "metadata": {
        "id": "naQaW3w9ziGM"
      },
      "execution_count": 7,
      "outputs": []
    },
    {
      "cell_type": "markdown",
      "source": [
        "## Visualize missing values"
      ],
      "metadata": {
        "id": "DtQU7gzdzok8"
      }
    },
    {
      "cell_type": "code",
      "source": [
        "if not os.path.exists(\"/content/eda_train_initial\"):\n",
        "  plt.figure(figsize=(12, 6))\n",
        "  sns.heatmap(df_train.isnull(), cbar=False, cmap='viridis', yticklabels=False)\n",
        "  plt.title(\"Missing Values Heatmap\", fontsize=16)\n",
        "  plt.savefig(os.path.join(output_folder, \"missing_values_heatmap.png\"))\n",
        "  plt.close()"
      ],
      "metadata": {
        "id": "OrCpppZXzjbD"
      },
      "execution_count": 8,
      "outputs": []
    },
    {
      "cell_type": "markdown",
      "source": [
        "## Summary statistics"
      ],
      "metadata": {
        "id": "D2hGOWblzv_9"
      }
    },
    {
      "cell_type": "code",
      "source": [
        "if not os.path.exists(\"/content/eda_train_initial\"):\n",
        "  df_train.describe(include=\"all\").to_csv(os.path.join(output_folder, \"summary_statistics.csv\"))"
      ],
      "metadata": {
        "id": "t3rVbIkWzt2A"
      },
      "execution_count": 9,
      "outputs": []
    },
    {
      "cell_type": "markdown",
      "source": [
        "## Categorical vs Numerical Features"
      ],
      "metadata": {
        "id": "x41F9gmxz2QC"
      }
    },
    {
      "cell_type": "code",
      "source": [
        "if not os.path.exists(\"/content/eda_train_initial\"):\n",
        "  with open(os.path.join(output_folder, \"feature_types.txt\"), \"w\") as f:\n",
        "    f.write(f\"Categorical Columns: {categorical_cols}\\n\")\n",
        "    f.write(f\"Numerical Columns: {numerical_cols}\\n\")"
      ],
      "metadata": {
        "id": "BrQhvN2yzz-K"
      },
      "execution_count": 10,
      "outputs": []
    },
    {
      "cell_type": "markdown",
      "source": [
        "## Distribution of Numerical Features"
      ],
      "metadata": {
        "id": "QuNSRjnE0Cw6"
      }
    },
    {
      "cell_type": "code",
      "source": [
        "if not os.path.exists(\"/content/eda_train_initial\"):\n",
        "  # Define the parent folder and subfolder paths\n",
        "  parent_folder = \"/content/eda\"\n",
        "  subfolder = os.path.join(parent_folder, \"numerical_distributions\")\n",
        "\n",
        "  # Create the subfolder inside the parent folder\n",
        "  os.makedirs(subfolder, exist_ok=True)\n",
        "\n",
        "  # Save histograms of numerical columns in the subfolder\n",
        "  for col in numerical_cols:\n",
        "    plt.figure(figsize=(10, 5))\n",
        "    sns.histplot(df_train[col], kde=True, bins=30, color='blue')\n",
        "    plt.title(f\"Distribution of {col}\", fontsize=14)\n",
        "    plt.xlabel(col)\n",
        "    plt.ylabel(\"Frequency\")\n",
        "    plt.grid(True)\n",
        "    plt.savefig(os.path.join(subfolder, f\"distribution_{col}.png\"))  # Save images in the subfolder\n",
        "    plt.close()"
      ],
      "metadata": {
        "id": "r0OEbW-pz_Va"
      },
      "execution_count": 11,
      "outputs": []
    },
    {
      "cell_type": "markdown",
      "source": [
        "## Correlation Matrix for Numerical Features"
      ],
      "metadata": {
        "id": "pobAhxCd1QRj"
      }
    },
    {
      "cell_type": "code",
      "source": [
        "if not os.path.exists(\"/content/eda_train_initial\"):\n",
        "  plt.figure(figsize=(12, 8))\n",
        "  correlation_matrix = df_train[numerical_cols].corr()\n",
        "  sns.heatmap(correlation_matrix, annot=True, fmt='.2f', cmap='coolwarm', cbar=True)\n",
        "  plt.title(\"Correlation Matrix of Numerical Features\", fontsize=16)\n",
        "  plt.savefig(os.path.join(parent_folder, \"correlation_matrix.png\"))\n",
        "  plt.close()"
      ],
      "metadata": {
        "id": "0HRKoQ981Tiw"
      },
      "execution_count": 12,
      "outputs": []
    },
    {
      "cell_type": "markdown",
      "source": [
        "## Pair Plot for Numerical Features"
      ],
      "metadata": {
        "id": "16sB6nLQ1bww"
      }
    },
    {
      "cell_type": "code",
      "source": [
        "if not os.path.exists(\"/content/eda_train_initial\"):\n",
        "  if len(numerical_cols) <= 5:  # Pair plots can be overwhelming for too many features\n",
        "    pairplot = sns.pairplot(df_train[numerical_cols])\n",
        "    pairplot.fig.suptitle(\"Pair Plot of Numerical Features\", y=1.02, fontsize=16)\n",
        "    pairplot.savefig(os.path.join(output_folder, \"pairplot_numerical.png\"))\n",
        "    plt.close()"
      ],
      "metadata": {
        "id": "NWxOhw971WQa"
      },
      "execution_count": 13,
      "outputs": []
    },
    {
      "cell_type": "markdown",
      "source": [
        "## Outliers Detection (Boxplot)"
      ],
      "metadata": {
        "id": "TlLuzyD71kjE"
      }
    },
    {
      "cell_type": "code",
      "source": [
        "if not os.path.exists(\"/content/eda_train_initial\"):\n",
        "  # Define the parent folder and subfolder paths\n",
        "  parent_folder = \"/content/eda\"\n",
        "  subfolder_3 = os.path.join(parent_folder, \"outliers_detection\")\n",
        "\n",
        "  # Create the subfolder inside the parent folder\n",
        "  os.makedirs(subfolder_3, exist_ok=True)\n",
        "\n",
        "  # Save boxplots for numerical columns\n",
        "  for col in numerical_cols:\n",
        "    plt.figure(figsize=(10, 5))\n",
        "    sns.boxplot(x=df_train[col])  # Removed `palette` parameter\n",
        "    plt.title(f\"Outliers in {col}\", fontsize=14)\n",
        "    plt.xlabel(col)\n",
        "    plt.grid(True)\n",
        "    plt.savefig(os.path.join(subfolder_3, f\"boxplot_{col}.png\"))\n",
        "    plt.close()"
      ],
      "metadata": {
        "id": "FAuadt-y1nM2"
      },
      "execution_count": 14,
      "outputs": []
    },
    {
      "cell_type": "markdown",
      "source": [
        "## Downloading the newly created eda folder"
      ],
      "metadata": {
        "id": "EVT9vc0X3eec"
      }
    },
    {
      "cell_type": "code",
      "source": [
        "if not os.path.exists(\"/content/eda_train_initial\"):\n",
        "  # Specify the folder path you want to download\n",
        "  folder_to_download = \"/content/eda\"\n",
        "\n",
        "  # Create a zip file\n",
        "  shutil.make_archive(\"eda\", \"zip\", folder_to_download)"
      ],
      "metadata": {
        "id": "KUneHkBY3hcW"
      },
      "execution_count": 15,
      "outputs": []
    }
  ]
}